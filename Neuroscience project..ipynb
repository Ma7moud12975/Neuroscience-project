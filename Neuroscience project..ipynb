{
 "cells": [
  {
   "cell_type": "code",
   "execution_count": 39,
   "id": "450ae59f",
   "metadata": {},
   "outputs": [],
   "source": [
    "# Neural Network Implementation with Tanh Activation\n",
    "# Written by [Mahmoud Ayman]\n",
    "# This code implements a simple neural network with random weight initialization and tanh activation."
   ]
  },
  {
   "cell_type": "code",
   "execution_count": 40,
   "id": "2cc9c2f6",
   "metadata": {},
   "outputs": [],
   "source": [
    "import numpy as np"
   ]
  },
  {
   "cell_type": "code",
   "execution_count": 41,
   "id": "6dc5c7c1",
   "metadata": {},
   "outputs": [],
   "source": [
    "def tanh_activation(x):\n",
    "    return np.tanh(x)\n",
    "\n",
    "def initialize_weights(shape):\n",
    "    return np.random.uniform(-0.5, 0.5, shape)\n",
    "\n",
    "def compute_error(target, output):\n",
    "    return 0.5 * (target - output) ** 2 "
   ]
  },
  {
   "cell_type": "code",
   "execution_count": 42,
   "id": "328d800e",
   "metadata": {},
   "outputs": [],
   "source": [
    "# Define the structure of the network\n",
    "input_size = 2 \n",
    "hidden_size = 2 \n",
    "output_size = 1  "
   ]
  },
  {
   "cell_type": "code",
   "execution_count": 43,
   "id": "70e739d0",
   "metadata": {},
   "outputs": [],
   "source": [
    "# Initialize weights and biases\n",
    "W1 = initialize_weights((input_size, hidden_size))\n",
    "b1 = np.array([0.5, 0.5])\n",
    "W2 = initialize_weights((hidden_size, output_size))\n",
    "b2 = np.array([0.7, 0.7])  "
   ]
  },
  {
   "cell_type": "code",
   "execution_count": 44,
   "id": "0dd659e6",
   "metadata": {},
   "outputs": [],
   "source": [
    "# Example input\n",
    "X = np.array([0.3, -0.2])\n",
    "target = np.array([0.1, -0.3])"
   ]
  },
  {
   "cell_type": "code",
   "execution_count": 45,
   "id": "b1b819df",
   "metadata": {},
   "outputs": [],
   "source": [
    "# Forward pass\n",
    "hidden_input = np.dot(X, W1) + b1\n",
    "hidden_output = tanh_activation(hidden_input)\n",
    "output_input = np.dot(hidden_output, W2) + b2\n",
    "output = tanh_activation(output_input)"
   ]
  },
  {
   "cell_type": "code",
   "execution_count": 46,
   "id": "26b50b02",
   "metadata": {},
   "outputs": [],
   "source": [
    "# Compute error\n",
    "error = compute_error(target, output)"
   ]
  },
  {
   "cell_type": "code",
   "execution_count": 47,
   "id": "1d1653e4",
   "metadata": {},
   "outputs": [
    {
     "name": "stdout",
     "output_type": "stream",
     "text": [
      "Hidden Layer Input: [0.46529178 0.54474308]\n",
      "Hidden Layer Output: [0.43438732 0.4965699 ]\n",
      "Output Layer Input: [0.56379856 0.56379856]\n",
      "Final Output: [0.51079037 0.51079037]\n",
      "Error: [0.08437436 0.32869051]\n"
     ]
    }
   ],
   "source": [
    "# Print results\n",
    "print(\"Hidden Layer Input:\", hidden_input)\n",
    "print(\"Hidden Layer Output:\", hidden_output)\n",
    "print(\"Output Layer Input:\", output_input)\n",
    "print(\"Final Output:\", output)\n",
    "print(\"Error:\", error)"
   ]
  }
 ],
 "metadata": {
  "kernelspec": {
   "display_name": "Python 3 (ipykernel)",
   "language": "python",
   "name": "python3"
  },
  "language_info": {
   "codemirror_mode": {
    "name": "ipython",
    "version": 3
   },
   "file_extension": ".py",
   "mimetype": "text/x-python",
   "name": "python",
   "nbconvert_exporter": "python",
   "pygments_lexer": "ipython3",
   "version": "3.10.9"
  }
 },
 "nbformat": 4,
 "nbformat_minor": 5
}
