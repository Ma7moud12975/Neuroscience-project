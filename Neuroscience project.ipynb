{
 "cells": [
  {
   "cell_type": "code",
   "execution_count": 1,
   "id": "d5b0e60a",
   "metadata": {},
   "outputs": [],
   "source": [
    "import numpy as np"
   ]
  },
  {
   "cell_type": "code",
   "execution_count": 2,
   "id": "6b5272ed",
   "metadata": {},
   "outputs": [],
   "source": [
    "x = np.array([1.0, 0.5])"
   ]
  },
  {
   "cell_type": "code",
   "execution_count": 3,
   "id": "8005785d",
   "metadata": {},
   "outputs": [],
   "source": [
    "W1 = np.random.uniform(low=-0.5, high=0.5, size=(2, 2))\n",
    "b1 = 0.5  "
   ]
  },
  {
   "cell_type": "code",
   "execution_count": 4,
   "id": "407015b1",
   "metadata": {},
   "outputs": [],
   "source": [
    "W2 = np.random.uniform(low=-0.5, high=0.5, size=(2, 1))\n",
    "b2 = 0.7 "
   ]
  },
  {
   "cell_type": "code",
   "execution_count": 5,
   "id": "39c0bfed",
   "metadata": {},
   "outputs": [],
   "source": [
    "z1 = np.dot(x, W1) + b1\n",
    "a1 = np.tanh(z1)"
   ]
  },
  {
   "cell_type": "code",
   "execution_count": 6,
   "id": "a9abc625",
   "metadata": {},
   "outputs": [],
   "source": [
    "z2 = np.dot(a1, W2) + b2\n",
    "output = z2"
   ]
  },
  {
   "cell_type": "code",
   "execution_count": 7,
   "id": "bedd2b4c",
   "metadata": {
    "scrolled": true
   },
   "outputs": [
    {
     "name": "stdout",
     "output_type": "stream",
     "text": [
      "Network Output: [0.65884723]\n"
     ]
    }
   ],
   "source": [
    "print(\"Network Output:\", output)"
   ]
  }
 ],
 "metadata": {
  "kernelspec": {
   "display_name": "Python 3 (ipykernel)",
   "language": "python",
   "name": "python3"
  },
  "language_info": {
   "codemirror_mode": {
    "name": "ipython",
    "version": 3
   },
   "file_extension": ".py",
   "mimetype": "text/x-python",
   "name": "python",
   "nbconvert_exporter": "python",
   "pygments_lexer": "ipython3",
   "version": "3.10.9"
  }
 },
 "nbformat": 4,
 "nbformat_minor": 5
}
